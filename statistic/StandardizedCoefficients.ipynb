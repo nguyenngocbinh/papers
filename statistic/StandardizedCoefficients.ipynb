{
 "cells": [
  {
   "attachments": {},
   "cell_type": "markdown",
   "metadata": {},
   "source": [
    "---\n",
    "title: Standardized Coefficients vs Unstandardized Coefficients\n",
    "author: \"Nguyễn Ngọc Bình\"\n",
    "---"
   ]
  },
  {
   "attachments": {},
   "cell_type": "markdown",
   "metadata": {},
   "source": [
    "## So sánh \n",
    "\n",
    "Hệ số hồi quy có thể được chuẩn hóa hoặc không chuẩn hóa, và chúng có mục đích khác nhau trong phân tích thống kê. Dưới đây là sự khác biệt giữa hai loại hệ số này:\n",
    "\n",
    "1. **Hệ số không chuẩn hóa**:\n",
    "\n",
    "   - Hệ số không chuẩn hóa (`Unstandardized Coefficients`), còn được gọi là **hệ số góc** hoặc hệ số beta, biểu thị sự thay đổi trong biến phụ thuộc (Y) khi biến độc lập (X) thay đổi một đơn vị, trong khi giữ tất cả các biến khác cố định.\n",
    "\n",
    "   - Chúng được biểu thị trong đơn vị đo lường gốc của các biến. Ví dụ, nếu bạn đang dự đoán mức lương (bằng đô la) dựa trên số năm kinh nghiệm, hệ số không chuẩn hóa có thể là, ví dụ, 5.000 đô la, có nghĩa là với mỗi năm kinh nghiệm bổ sung, mức lương dự kiến sẽ tăng 5.000 đô la.\n",
    "\n",
    "   - Hệ số không chuẩn hóa hữu ích khi bạn muốn hiểu về tác động thực tế của biến độc lập lên biến phụ thuộc.\n",
    "\n",
    "\n",
    "2. **Hệ số chuẩn hóa**:\n",
    "\n",
    "   - Hệ số chuẩn hóa (`Standardized Coefficients`), còn được gọi là **trọng số beta** hoặc hệ số beta, là các hệ số đã được biến đổi sao cho có giá trị trung bình bằng 0 và độ lệch chuẩn bằng 1. Quá trình chuẩn hóa này *cho phép so sánh trực tiếp sự quan trọng tương đối* của các biến độc lập khác nhau trong một mô hình hồi quy.\n",
    "\n",
    "   - Chúng đo lường về sự thay đổi của biến phụ thuộc theo bao nhiêu độ lệch chuẩn khi biến độc lập thay đổi một độ lệch chuẩn.\n",
    "\n",
    "   - Hệ số chuẩn hóa đặc biệt hữu ích khi bạn muốn so sánh sự quan trọng tương đối của các biến dự đoán khác nhau trong một mô hình, đặc biệt là khi các biến được đo trên các thang đo khác nhau. Chúng giúp trả lời câu hỏi như \"Biến dự đoán nào có tác động mạnh hơn đối với kết quả, bất kể đơn vị đo lường?\"\n",
    "\n",
    "\n",
    "Tóm lại, hệ số không chuẩn hóa hữu ích để hiểu về tác động thực tế của các biến độc lập lên biến phụ thuộc trong đơn vị gốc của chúng, trong khi hệ số chuẩn hóa hữu ích để so sánh sự quan trọng tương đối của các biến dự đoán khác nhau khi các biến đo trên các thang đo khác nhau. Sự lựa chọn giữa hai loại hệ số này phụ thuộc vào câu hỏi nghiên cứu cụ thể và mục tiêu của phân tích của bạn."
   ]
  },
  {
   "attachments": {},
   "cell_type": "markdown",
   "metadata": {},
   "source": [
    "## Công thức tính Standardized Coefficients"
   ]
  },
  {
   "attachments": {},
   "cell_type": "markdown",
   "metadata": {},
   "source": [
    "1. Trong trường hợp **hồi quy tuyến tính**, công thức để tính hệ số beta chuẩn hóa ($ \\beta_{\\text{std}, i} $) cho biến độc lập $ X_i $ là:\n",
    "\n",
    "    $$ \\beta_{\\text{std}, i} = \\frac{\\beta_i}{\\sigma_i} $$\n",
    "\n",
    "    - $ \\beta_{\\text{std}, i} $: Hệ số beta chuẩn hóa cho biến độc lập $ X_i $.\n",
    "\n",
    "    - $ \\beta_i $: Hệ số beta không chuẩn hóa cho biến độc lập $ X_i $.\n",
    "\n",
    "    - $ \\sigma_i $: Độ lệch chuẩn (standard deviation) của biến độc lập $ X_i $.\n",
    "\n",
    "1. Trong trường hợp **hồi quy hồi quy logistic**, công thức để tính hệ số beta chuẩn hóa ($ \\beta_{\\text{std}, i} $) cho biến độc lập $ X_i $ là:\n",
    "\n",
    "    $$\\beta_{\\text{std}, i} = \\frac{\\beta_i}{\\sigma_i} \\times \\frac{\\sqrt{3}}{\\pi}$$\n",
    "\n",
    "    Trong đó:\n",
    "    - $\\beta_i$ là hệ số (beta) của biến dự đoán $X_i$ trong mô hình hồi quy logistic.\n",
    "    - $\\sigma_i$ là độ lệch chuẩn của biến dự đoán $X_i$ trong tập dữ liệu huấn luyện.\n",
    "    - $\\beta_{\\text{std}, i}$ là hệ số beta chuẩn hóa cho biến dự đoán $X_i$.\n"
   ]
  }
 ],
 "metadata": {
  "kernelspec": {
   "display_name": "rdm",
   "language": "python",
   "name": "python3"
  },
  "language_info": {
   "codemirror_mode": {
    "name": "ipython",
    "version": 3
   },
   "file_extension": ".py",
   "mimetype": "text/x-python",
   "name": "python",
   "nbconvert_exporter": "python",
   "pygments_lexer": "ipython3",
   "version": "3.10.11"
  },
  "orig_nbformat": 4,
  "vscode": {
   "interpreter": {
    "hash": "b0fc7d2c5e3b32912b68ef575c1bdd2ee7ee3f28f2d636d660b71751dc8fb34a"
   }
  }
 },
 "nbformat": 4,
 "nbformat_minor": 2
}
