{
 "cells": [
  {
   "attachments": {},
   "cell_type": "markdown",
   "metadata": {},
   "source": [
    "---\n",
    "title: So sánh giữa Monte Carlo Simulation và Bootstrap\n",
    "author: \"Nguyễn Ngọc Bình\"\n",
    "---"
   ]
  },
  {
   "attachments": {},
   "cell_type": "markdown",
   "metadata": {},
   "source": [
    "## Lịch sử ra đời\n",
    "\n",
    "### **Monte Carlo Simulation**\n",
    "\n",
    "Phương pháp Monte Carlo Simulation xuất hiện đầu tiên vào cuối thập kỷ 1940, trong quá trình phát triển và nghiên cứu về vấn đề hạt nhân trong thời kỳ Chiến tranh thế giới thứ hai. Dự án Manhattan, một dự án nghiên cứu quy mô lớn do Mỹ thực hiện để phát triển bom nguyên tử, đặt ra nhiều thách thức về tính toán với những biến số không chắc chắn.\n",
    "\n",
    "John von Neumann, một nhà toán học và nhà vật lý người Mỹ-Hungari, cùng với nhóm nghiên cứu của ông, đã phát triển phương pháp Monte Carlo Simulation để giải quyết những vấn đề này. Tên gọi \"Monte Carlo\" xuất phát từ tên của thành phố Monaco nổi tiếng với sòng bạc và các trò chơi may rủi, thể hiện tính ngẫu nhiên trong quá trình mô phỏng.\n",
    "\n",
    "Phương pháp Monte Carlo Simulation được sử dụng rộng rãi trong các lĩnh vực như vật lý, tài chính, kỹ thuật, và nhiều ngành khác nữa. Đến nay, nó vẫn là một công cụ quan trọng trong mô hình hóa và dự đoán các biến số không chắc chắn, đặc biệt là khi không có phương trình toán học chính xác để mô tả các hệ thống.\n",
    "\n",
    "### **Bootstrap**\n",
    "\n",
    "Phương pháp Bootstrap được giới thiệu bởi Bradley Efron vào cuối thập kỷ 1970, đặc biệt là trong bài báo mang tiêu đề \"Bootstrap Methods: Another Look at the Jackknife\" (1979). Trong bài báo này, Efron đề xuất phương pháp Bootstrap như một phương pháp thay thế và mở rộng cho phương pháp Jackknife, một phương pháp thống kê truyền thống.\n",
    "\n",
    "**Ngữ cảnh lịch sử:**\n",
    "- Trước khi Bootstrap xuất hiện, các phương pháp thống kê thường phải dựa vào giả định về phân phối của dữ liệu hoặc kích thước mẫu lớn để áp dụng các ước lượng thống kê.\n",
    "- Efron nhận ra rằng, thay vì phụ thuộc vào giả định phân phối, chúng ta có thể sử dụng dữ liệu hiện có để đánh giá phân phối của một ước lượng thống kê thông qua việc tái chọn mẫu từ dữ liệu.\n",
    "\n",
    "**Cơ sở Lý Thuyết:**\n",
    "- Bootstrap dựa trên ý tưởng rằng mẫu mà chúng ta có thể thu thập từ dữ liệu mẫu hiện có có thể đưa ra thông tin tốt về biến động của ước lượng thống kê.\n",
    "- Thay vì giả định về phân phối, Bootstrap sử dụng dữ liệu để xác định phân phối thông tin của ước lượng.\n",
    "\n",
    "**Ứng Dụng Đầu Tiên:**\n",
    "- Phương pháp Bootstrap nhanh chóng được áp dụng rộng rãi trong thống kê và các lĩnh vực khác. Ban đầu, nó thường được sử dụng để đánh giá độ chắc chắn của các ước lượng thống kê như trung bình và phương sai.\n",
    "- Bootstrap cũng đã mở ra một hướng mới trong nghiên cứu thống kê, giúp làm thay đổi cách chúng ta xem xét và xử lý dữ liệu.\n",
    "\n",
    "Phương pháp Bootstrap đã trở thành một công cụ mạnh mẽ trong công việc thống kê và nghiên cứu khoa học, giúp làm giảm sự phụ thuộc vào giả định về phân phối và đồng thời cung cấp cách tiếp cận linh hoạt hơn trong đối mặt với dữ liệu thực tế."
   ]
  },
  {
   "attachments": {},
   "cell_type": "markdown",
   "metadata": {},
   "source": [
    "## So sánh **Monte Carlo Simulation:** và **Bootstrap:**\n",
    "\n",
    "1. **Mục Tiêu Chính:**\n",
    "   - **Monte Carlo Simulation:** Được sử dụng để mô phỏng hành vi của một hệ thống phức tạp thông qua việc tạo ra dữ liệu ngẫu nhiên và thực hiện phân tích.\n",
    "   - **Bootstrap:** Sử dụng để đánh giá độ chắc chắn của ước lượng thống kê và xây dựng khoảng tin cậy thông qua việc tái chọn mẫu từ dữ liệu đã có.\n",
    "\n",
    "2. **Loại Ứng Dụng:**\n",
    "   - **Monte Carlo Simulation:** Thường được sử dụng trong mô hình hóa hệ thống phức tạp như tài chính, vật lý, và kỹ thuật.\n",
    "   - **Bootstrap:** Thường được sử dụng trong thống kê để đánh giá độ biến động của ước lượng thống kê.\n",
    "\n",
    "3. **Dữ Liệu Sử Dụng:**\n",
    "   - **Monte Carlo Simulation:** Thường sử dụng để tạo ra dữ liệu mới dựa trên mô hình toán học hoặc cảm nhận về hệ thống.\n",
    "   - **Bootstrap:** Sử dụng dữ liệu hiện có và tái chọn mẫu từ nó để ước tính phân phối của một thống kê.\n",
    "\n",
    "4. **Mục Tiêu Ước Tính:**\n",
    "   - **Monte Carlo Simulation:** Đưa ra ước lượng về hành vi của một biến số hay hệ thống thông qua việc lặp lại mô phỏng.\n",
    "   - **Bootstrap:** Đưa ra ước lượng của phân phối của một thống kê cụ thể, chẳng hạn như trung bình hoặc phương sai.\n",
    "\n",
    "5. **Phương Pháp Tạo Ngẫu Nhiên:**\n",
    "   - **Monte Carlo Simulation:** Sử dụng phương pháp tạo số ngẫu nhiên để mô phỏng dữ liệu mới.\n",
    "   - **Bootstrap:** Sử dụng phương pháp tái chọn mẫu từ dữ liệu hiện có để tạo ra các tập dữ liệu con.\n",
    "\n",
    "6. **Ứng Dụng Cụ Thể:**\n",
    "   - **Monte Carlo Simulation:** Có thể được sử dụng để mô phỏng giá trị của tùy chọn tài chính, đánh giá rủi ro dự án, hoặc mô phỏng quá trình vật lý.\n",
    "   - **Bootstrap:** Thường được sử dụng để đánh giá độ chắc chắn của ước lượng thống kê như trung bình, phương sai, hoặc hệ số tương quan.\n",
    "\n",
    "7. **Mức Độ Phức Tạp:**\n",
    "   - **Monte Carlo Simulation:** Thường phức tạp hơn, đặc biệt là khi mô phỏng hệ thống phức tạp với nhiều yếu tố.\n",
    "   - **Bootstrap:** Tương đối đơn giản và dễ triển khai.\n",
    "\n",
    "8. **Đối Tượng Nghiên Cứu:**\n",
    "   - **Monte Carlo Simulation:** Thường được ưa chuộng trong nghiên cứu lĩnh vực khoa học và kỹ thuật.\n",
    "   - **Bootstrap:** Thường được sử dụng trong thống kê và nghiên cứu xã hội.\n",
    "\n",
    "Tóm lại, Monte Carlo Simulation và Bootstrap là hai phương pháp mạnh mẽ được sử dụng trong các lĩnh vực khác nhau với mục tiêu và ứng dụng riêng biệt. Monte Carlo Simulation thường được sử dụng để mô phỏng và dự đoán hành vi của hệ thống phức tạp, trong khi Bootstrap tập trung vào đánh giá độ chắc chắn của ước lượng thống kê từ dữ liệu hiện có."
   ]
  },
  {
   "attachments": {},
   "cell_type": "markdown",
   "metadata": {},
   "source": [
    "## Ví dụ về áp dụng phương pháp Monte Carlo Simulation"
   ]
  },
  {
   "attachments": {},
   "cell_type": "markdown",
   "metadata": {},
   "source": [
    "### **Ví dụ: Ước tính giá trị Pi**\n",
    "\n",
    "Giả sử chúng ta muốn ước tính giá trị Pi bằng phương pháp Monte Carlo Simulation. Ý tưởng là vẽ một hình vuông có cạnh dài $2r$ và nằm trong một hình tròn có bán kính $r$. Nếu ta ngẫu nhiên chọn một điểm bất kỳ bên trong hình vuông, xác suất nó rơi vào hình tròn sẽ tỉ lệ với diện tích của hình tròn so với hình vuông.\n",
    "\n",
    "1. **Bước 1: Tạo điểm ngẫu nhiên:**\n",
    "   - Tạo một số lượng lớn $N$ điểm ngẫu nhiên trong hình vuông.\n",
    "\n",
    "2. **Bước 2: Kiểm tra vị trí của điểm:**\n",
    "   - Đối với mỗi điểm, kiểm tra xem nó có nằm trong hình tròn hay không bằng cách kiểm tra $x^2 + y^2 \\leq r^2$.\n",
    "\n",
    "3. **Bước 3: Ước tính giá trị Pi:**\n",
    "   - Sử dụng tỉ lệ giữa số điểm nằm trong hình tròn và tổng số điểm để ước tính giá trị Pi: $\\pi \\approx \\frac{\\text{Số điểm trong hình tròn}}{\\text{Tổng số điểm}} \\times 4$.\n",
    "\n",
    "Dưới đây là một đoạn mã Python đơn giản để thực hiện ví dụ này:\n"
   ]
  },
  {
   "cell_type": "code",
   "execution_count": 2,
   "metadata": {},
   "outputs": [
    {
     "name": "stdout",
     "output_type": "stream",
     "text": [
      "Giá trị Pi ước tính với 1000000 điểm: 3.144\n"
     ]
    }
   ],
   "source": [
    "import random\n",
    "\n",
    "def estimate_pi(num_points):\n",
    "    points_inside_circle = 0\n",
    "\n",
    "    for _ in range(num_points):\n",
    "        x = random.uniform(-1, 1)\n",
    "        y = random.uniform(-1, 1)\n",
    "\n",
    "        if x**2 + y**2 <= 1:\n",
    "            points_inside_circle += 1\n",
    "\n",
    "    pi_estimate = (points_inside_circle / num_points) * 4\n",
    "    return pi_estimate\n",
    "\n",
    "# Thử nghiệm với 1 triệu điểm\n",
    "num_points = 1000000\n",
    "pi_approximation = estimate_pi(num_points)\n",
    "\n",
    "print(f\"Giá trị Pi ước tính với {num_points} điểm: {pi_approximation}\")\n"
   ]
  },
  {
   "attachments": {},
   "cell_type": "markdown",
   "metadata": {},
   "source": [
    "### **Ví dụ: Định giá tùy chọn (Option Pricing) trong Tài chính**\n",
    "\n",
    "Monte Carlo Simulation được sử dụng rộng rãi trong tài chính để định giá các tùy chọn (options). Giả sử bạn muốn ước tính giá của một tùy chọn chứng khoán dựa trên mô hình Black-Scholes, một mô hình phổ biến trong tài chính.\n",
    "\n",
    "1. **Bước 1: Xác định các tham số của mô hình:**\n",
    "   - Số liệu như giá chứng khoán hiện tại ($S$), giá thực hiện ($K$), thời gian đến hết hạn ($T$), biến động phần trăm hàng năm ($\\sigma$), và lãi suất không rủi ro ($r$).\n",
    "\n",
    "2. **Bước 2: Tạo ngẫu nhiên các biến đầu vào:**\n",
    "   - Sử dụng Monte Carlo để tạo ra một lượng lớn các biến ngẫu nhiên, chẳng hạn như biến động giá ($\\Delta S$) và thời gian đến hết hạn ($\\Delta t$).\n",
    "\n",
    "3. **Bước 3: Mô phỏng giá chứng khoán tương lai:**\n",
    "   - Sử dụng các biến ngẫu nhiên để mô phỏng giá chứng khoán tương lai theo mô hình Black-Scholes.\n",
    "\n",
    "4. **Bước 4: Định giá tùy chọn:**\n",
    "   - Sử dụng giá chứng khoán tương lai để định giá tùy chọn dựa trên điều kiện thị trường.\n",
    "\n",
    "Dưới đây là một đoạn mã Python đơn giản để thực hiện ví dụ này:\n",
    "Trong ví dụ này, chúng ta sử dụng Monte Carlo để mô phỏng giá chứng khoán tương lai và sau đó định giá một tùy chọn dựa trên mô hình Black-Scholes. Monte Carlo giúp xác định phân phối xác suất của giá chứng khoán tương lai và từ đó đưa ra giá trị hiện tại của tùy chọn."
   ]
  },
  {
   "cell_type": "code",
   "execution_count": 5,
   "metadata": {},
   "outputs": [
    {
     "name": "stdout",
     "output_type": "stream",
     "text": [
      "Giá tùy chọn ước tính: 5.74496815639896\n"
     ]
    }
   ],
   "source": [
    "import numpy as np\n",
    "import math\n",
    "\n",
    "def black_scholes_simulation(S, K, T, r, sigma, num_simulations):\n",
    "    dt = T / 252  # Assume 252 trading days in a year\n",
    "    simulations = np.zeros(num_simulations)\n",
    "\n",
    "    for i in range(num_simulations):\n",
    "        path = [S]\n",
    "        for _ in range(252):\n",
    "            Z = np.random.normal(0, 1)\n",
    "            S_t = path[-1] * math.exp((r - 0.5 * sigma**2) * dt + sigma * math.sqrt(dt) * Z)\n",
    "            path.append(S_t)\n",
    "\n",
    "        simulations[i] = max(0, math.exp(-r * T) * (np.mean(path) - K))\n",
    "\n",
    "    option_price = np.mean(simulations)\n",
    "    return option_price\n",
    "\n",
    "# Thử nghiệm với các tham số\n",
    "stock_price = 100\n",
    "strike_price = 100\n",
    "expiry = 1  # 1 year\n",
    "risk_free_rate = 0.05\n",
    "volatility = 0.2\n",
    "num_simulations = 100000\n",
    "\n",
    "option_price = black_scholes_simulation(stock_price, strike_price, expiry, risk_free_rate, volatility, num_simulations)\n",
    "\n",
    "print(f\"Giá tùy chọn ước tính: {option_price}\")\n"
   ]
  },
  {
   "attachments": {},
   "cell_type": "markdown",
   "metadata": {},
   "source": [
    "## Ví dụ Sử Dụng Phương Pháp Bootstrap\n",
    "\n",
    "**Ví dụ Sử Dụng Phương Pháp Bootstrap để Ước Tính Trung Bình:**\n",
    "\n",
    "Giả sử bạn có một tập dữ liệu đo chiều cao của một mẫu người và bạn muốn ước tính trung bình chiều cao của toàn bộ dân số. Thay vì dựa vào các giả định phân phối, bạn có thể sử dụng phương pháp Bootstrap để đánh giá độ chắc chắn của ước lượng trung bình.\n",
    "\n",
    "Trong ví dụ dưới, chúng ta sử dụng Bootstrap để tạo ra nhiều mẫu tái chọn từ dữ liệu chiều cao của mẫu người và tính toán trung bình của mỗi mẫu tái chọn. Kết quả là một phân phối mẫu trung bình được sử dụng để ước lượng giá trị trung bình và xây dựng khoảng tin cậy 95%.\n",
    "\n",
    "Bootstrap giúp chúng ta đánh giá độ chắc chắn của ước lượng trung bình mà không cần phải làm giả định về phân phối của dữ liệu."
   ]
  },
  {
   "cell_type": "code",
   "execution_count": 3,
   "metadata": {},
   "outputs": [
    {
     "name": "stdout",
     "output_type": "stream",
     "text": [
      "Trung bình ước lượng từ Bootstrap: 169.48841800757592\n",
      "Khoảng tin cậy 95%: [168.63831788 170.31425743]\n",
      "Trung bình thực sự từ dữ liệu mẫu: 169.48076741302958\n"
     ]
    }
   ],
   "source": [
    "\n",
    "import numpy as np\n",
    "\n",
    "# Tạo một tập dữ liệu mẫu (giả sử đây là chiều cao của một mẫu người)\n",
    "np.random.seed(42)\n",
    "sample_data = np.random.normal(loc=170, scale=5, size=100)\n",
    "\n",
    "# Hàm Bootstrap để ước lượng trung bình\n",
    "def bootstrap_mean(data, num_samples=1000):\n",
    "    sample_means = np.zeros(num_samples)\n",
    "    \n",
    "    for i in range(num_samples):\n",
    "        bootstrap_sample = np.random.choice(data, size=len(data), replace=True)\n",
    "        sample_means[i] = np.mean(bootstrap_sample)\n",
    "    \n",
    "    return sample_means\n",
    "\n",
    "# Áp dụng Bootstrap để ước lượng trung bình và đánh giá độ chắc chắn\n",
    "bootstrap_means = bootstrap_mean(sample_data)\n",
    "\n",
    "# Tính toán khoảng tin cậy 95%\n",
    "confidence_interval = np.percentile(bootstrap_means, [2.5, 97.5])\n",
    "\n",
    "# Ước lượng trung bình thực sự từ dữ liệu mẫu\n",
    "true_mean = np.mean(sample_data)\n",
    "\n",
    "print(f\"Trung bình ước lượng từ Bootstrap: {np.mean(bootstrap_means)}\")\n",
    "print(f\"Khoảng tin cậy 95%: {confidence_interval}\")\n",
    "print(f\"Trung bình thực sự từ dữ liệu mẫu: {true_mean}\")\n",
    "\n",
    "\n"
   ]
  }
 ],
 "metadata": {
  "kernelspec": {
   "display_name": "env_pycaret",
   "language": "python",
   "name": "python3"
  },
  "language_info": {
   "codemirror_mode": {
    "name": "ipython",
    "version": 3
   },
   "file_extension": ".py",
   "mimetype": "text/x-python",
   "name": "python",
   "nbconvert_exporter": "python",
   "pygments_lexer": "ipython3",
   "version": "3.10.13"
  },
  "orig_nbformat": 4,
  "vscode": {
   "interpreter": {
    "hash": "d7079de8778d66714c39ba1ba089af45597f43d24aab92937d8aeb6c4afdbc7a"
   }
  }
 },
 "nbformat": 4,
 "nbformat_minor": 2
}
