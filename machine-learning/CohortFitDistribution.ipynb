{
 "cells": [
  {
   "attachments": {},
   "cell_type": "raw",
   "metadata": {},
   "source": [
    "---\n",
    "title: Fit Distribution\n",
    "---"
   ]
  },
  {
   "attachments": {},
   "cell_type": "markdown",
   "metadata": {},
   "source": [
    "## Dạng hàm phân phối\n",
    "\n",
    "Phân phối bao gồm: Cauchy, Gamma, Exponential, Log-Logistic, Log-Normal Hàm mât đô xác suất (PDF) của phân phối Cauchy:\n",
    "\n",
    "$$\n",
    "f\\left(x ; x_{0} ; \\gamma\\right)=\\frac{1}{\\pi \\gamma\\left[1+\\left(\\frac{x-x_{0}}{\\gamma}\\right)^{2}\\right]}=\\frac{1}{\\pi \\gamma}\\left[\\frac{\\gamma^{2}}{\\left(x-x_{0}\\right)^{2}+\\gamma^{2}}\\right]\n",
    "$$\n",
    "\n",
    "Trong đó:\n",
    "\n",
    "- $ x_{0}$ : là thông số vị trí, chỉ định vị trí đỉnh của phân phối\n",
    "- $ \\gamma$ : là thông số tỷ lệ chỉ định nửa chiều rộng ở nửa tối đa (HWHM), $2 \\gamma$ là toàn bộ chiều rộng ở mức tối đa một nửa (FWHM). $\\gamma$ là một nửa phạm vi liên phần và đôi khi được gọi là lỗi có thể xảy ra\n",
    "\n",
    "Hàm mât đô xác suất (PDF) của phân phối Gamma:\n",
    "\n",
    "$$\n",
    "f(x ; k ; \\theta)=\\frac{x^{k-1} e^{-\\frac{x}{\\theta}}}{\\theta^{k} \\Gamma(k)}, \\text { for } x>0 \\text { and } k, \\theta>0\n",
    "$$\n",
    "\n",
    "- $k$ : là tham số hình dạng\n",
    "- $\\theta$ : là tham số tỷ lệ\n",
    "- $x$ : là biến ngẫu nhiên\n",
    "- $\\Gamma(k)$ : là hàm gamma được đánh giá tại $\\mathrm{k}$\n",
    "\n",
    "Hàm mật đô xác suất (PDF) của phân phối Exponential:\n",
    "\n",
    "$$\n",
    "f(x ; \\lambda)=\\left\\{\\begin{array}{rr}\n",
    "0, & x<0 \\\\\n",
    "\\lambda e^{-\\lambda x}, & x \\geq 0\n",
    "\\end{array}\\right.\n",
    "$$\n",
    "\n",
    "- $\\lambda$ : là tham số của phân phối, thường được gọi là tham số tỷ lệ.\n",
    "- $ x$ : là biến ngẫu nhiên\n",
    "\n",
    "Hàm mật độ xác suất (PDF) của phân phối Log-Logistic:\n",
    "\n",
    "$$\n",
    "f(x ; \\alpha ; \\beta)=\\frac{\\left(\\frac{\\beta}{\\alpha}\\right)\\left(\\frac{x}{\\alpha}\\right)^{\\beta-1}}{\\left(1+\\left(\\frac{x}{\\alpha}\\right)^{\\beta}\\right)^{2}}, \\text { where } x>0, \\alpha>0, \\beta>0\n",
    "$$\n",
    "\n",
    "- $\\alpha$ : là tham số tỷ lệ và là giá trị trung bình của phân phối\n",
    "- $\\beta$ : là tham số hình dạng\n",
    "\n",
    "Hàm mât độ xác suất (PDF) của phân phối Lognormal $\\left(\\mu, \\sigma^{2}\\right)$ :\n",
    "\n",
    "$$\n",
    "f_{x}(x)=\\frac{d}{d x} \\operatorname{Pr}(X \\leq x)=\\frac{1}{x \\sigma \\sqrt{2 \\pi}} e^{\\left(-\\frac{(\\ln x-\\mu)^{2}}{2 \\sigma^{2}}\\right)}, \\text { where } x>0, \\sigma>0\n",
    "$$\n",
    "\n",
    "- $x$ là biến ngẫu nhiên \n",
    "- Một biến ngẫu nhiên $X$ tuân theo phân phối Log-normal $\\left(X \\sim \\operatorname{Lognormal}\\left(\\mu_{x}, \\sigma_{x}^{2}\\right)\\right)$ nếu $\\ln (X)$ tuân theo phân phối chuẩn với giá trị trung bình là $\\mu$ và phương sai $\\sigma^{2}$\n",
    "\n",
    "Để lựa chọn phân phối phù hợp cho từng phân nhóm, Nhóm mô hình lựa chọn mô hình có SSE (Sum of square error - tổng của sai số bình phương) nhỏ nhất với SSE được tính theo công thức sau:\n",
    "\n",
    "$$\n",
    "\\left.S S E=\\sum \\text { (Giá trị thực tế - Giá trị được tính ra từ mô hình phân phối }\\right)^{2}\n",
    "$$\n",
    "\n",
    "Cuối cùng, từ mô hình phân phối vừa được lựa chọn (là mô hình có SSE nhỏ nhất)."
   ]
  },
  {
   "attachments": {},
   "cell_type": "markdown",
   "metadata": {},
   "source": [
    "## Python Example"
   ]
  },
  {
   "cell_type": "code",
   "execution_count": 1,
   "metadata": {},
   "outputs": [],
   "source": [
    "import numpy as np\n",
    "import pandas as pd\n",
    "import scipy  \n",
    "from scipy import stats \n",
    "import scipy.optimize as optimize"
   ]
  },
  {
   "attachments": {},
   "cell_type": "markdown",
   "metadata": {},
   "source": [
    "### 1. Các hàm liên quan"
   ]
  },
  {
   "attachments": {},
   "cell_type": "markdown",
   "metadata": {},
   "source": [
    "#### 1.1 Hàm phân phối gamma"
   ]
  },
  {
   "cell_type": "code",
   "execution_count": 1,
   "metadata": {},
   "outputs": [],
   "source": [
    "class opt_gamma:\n",
    "\n",
    "    def __init__(self, actual_pd):\n",
    "        self.actual_pd = actual_pd\n",
    "        self.x_input = range(1, len(actual_pd) + 1)\n",
    "\n",
    "    def func(self, x, scale, a, b):        \n",
    "        predict = stats.gamma.pdf(x, a = a, scale = b) * scale\n",
    "        return predict\n",
    "\n",
    "    def sse(self, params, xobs, yobs):\n",
    "        ynew = self.func(xobs, *params)\n",
    "        mse = np.sum((ynew - yobs) ** 2)        \n",
    "        return mse\n",
    "    \n",
    "    def solver(self):\n",
    "        p0 = [1,1,1]\n",
    "        bounds = [(0.0001, 2), (0.0001, 10), (0.0001, 10)]\n",
    "        res = scipy.optimize.minimize(self.sse, p0, args=(self.x_input, self.actual_pd), bounds= bounds)       \n",
    "        # res = scipy.optimize.minimize(self.sse, p0, args=(self.x_input, self.actual_pd), method='Nelder-Mead')        \n",
    "        return res\n",
    "    \n",
    "    def predict(self, t=30):\n",
    "        res = self.solver()\n",
    "        ypred = self.func(range(1, t+1), *res.x)        \n",
    "        return ypred        "
   ]
  },
  {
   "attachments": {},
   "cell_type": "markdown",
   "metadata": {},
   "source": [
    "#### 1.2 Hàm Phân phối mũ Exponential"
   ]
  },
  {
   "cell_type": "code",
   "execution_count": 3,
   "metadata": {},
   "outputs": [],
   "source": [
    "class opt_exponential:\n",
    "\n",
    "    def __init__(self, actual_pd):\n",
    "        self.actual_pd = actual_pd\n",
    "        self.x_input = range(1, len(actual_pd) + 1)\n",
    "\n",
    "    def func(self, x, scale, a):        \n",
    "        # change function here        \n",
    "        pred = stats.expon.pdf(x, scale = 1/a) * scale\n",
    "        return pred\n",
    "\n",
    "    def sse(self, params, xobs, yobs):\n",
    "        ynew = self.func(xobs, *params)\n",
    "        mse = np.sum((ynew - yobs) ** 2)        \n",
    "        return mse\n",
    "    \n",
    "    def solver(self):\n",
    "        # change initial guess here\n",
    "        p0 = [1,2]\n",
    "        bounds = [(0.0001, 2), (0.0001, 0.5)]           \n",
    "        res = scipy.optimize.minimize(self.sse, p0, args=(self.x_input, self.actual_pd), bounds = bounds)             \n",
    "        return res\n",
    "    \n",
    "    def predict(self, t=30):\n",
    "        res = self.solver()\n",
    "        ypred = self.func(range(1, t+1), *res.x)        \n",
    "        return ypred       "
   ]
  },
  {
   "attachments": {},
   "cell_type": "markdown",
   "metadata": {},
   "source": [
    "#### 1.3 Hàm phân phối Cauchy"
   ]
  },
  {
   "cell_type": "code",
   "execution_count": 4,
   "metadata": {},
   "outputs": [],
   "source": [
    "class opt_cauchy:\n",
    "\n",
    "    def __init__(self, actual_pd):\n",
    "        self.actual_pd = actual_pd\n",
    "        self.x_input = range(1, len(actual_pd) + 1)\n",
    "\n",
    "    def func(self, x, scale, a, b):        \n",
    "        # change function here        \n",
    "        predict = stats.cauchy.pdf(x, loc = b, scale = a) * scale\n",
    "        return predict\n",
    "\n",
    "    def sse(self, params, xobs, yobs):\n",
    "        ynew = self.func(xobs, *params)\n",
    "        mse = np.sum((ynew - yobs) ** 2)        \n",
    "        return mse\n",
    "    \n",
    "    def solver(self):\n",
    "        # change initial guess here\n",
    "        p0 = [1,1,1]\n",
    "        bounds = [(0.0001, 2), (0.0001, 15), (-30, 30)]\n",
    "        res = scipy.optimize.minimize(self.sse, p0, args=(self.x_input, self.actual_pd), bounds = bounds)        \n",
    "        return res\n",
    "    \n",
    "    def predict(self, t=30):\n",
    "        res = self.solver()\n",
    "        ypred = self.func(range(1, t+1), *res.x)        \n",
    "        return ypred    "
   ]
  },
  {
   "attachments": {},
   "cell_type": "markdown",
   "metadata": {},
   "source": [
    "#### 1.4 Hàm phân phối log logistic"
   ]
  },
  {
   "cell_type": "code",
   "execution_count": 5,
   "metadata": {},
   "outputs": [],
   "source": [
    "class opt_log_logistic:\n",
    "\n",
    "    def __init__(self, actual_pd):\n",
    "        self.actual_pd = actual_pd\n",
    "        self.x_input = range(1, len(actual_pd) + 1)\n",
    "\n",
    "    def func(self, x, scale, a, b):        \n",
    "        # change function here\n",
    "        predict = scale*(a/b)*(x/b)**(a-1)/(1+(x/b)**a)**2\n",
    "        return predict\n",
    "\n",
    "    def sse(self, params, xobs, yobs):\n",
    "        ynew = self.func(xobs, *params)\n",
    "        mse = np.sum((ynew - yobs) ** 2)        \n",
    "        return mse\n",
    "    \n",
    "    def solver(self):\n",
    "        # change initial guess here\n",
    "        p0 = [2,3,1]\n",
    "        bounds = [(0.0001, 2), (0.0001, 10), (0.0001, 10)]\n",
    "        res = scipy.optimize.minimize(self.sse, p0, args=(self.x_input, self.actual_pd), bounds=bounds)        \n",
    "        return res\n",
    "    \n",
    "    def predict(self, t=30):\n",
    "        res = self.solver()\n",
    "        ypred = self.func(range(1, t+1), *res.x)        \n",
    "        return ypred    "
   ]
  },
  {
   "attachments": {},
   "cell_type": "markdown",
   "metadata": {},
   "source": [
    "#### 1.5 Hàm phân phối log normal"
   ]
  },
  {
   "cell_type": "code",
   "execution_count": 6,
   "metadata": {},
   "outputs": [],
   "source": [
    "class opt_log_normal:\n",
    "\n",
    "    def __init__(self, actual_pd):\n",
    "        self.actual_pd = actual_pd\n",
    "        self.x_input = range(1, len(actual_pd) + 1)\n",
    "\n",
    "    def func(self, x, scale, a, b):        \n",
    "        # change function here\n",
    "        predict = (np.exp(-(np.log(x) - a)**2 / (2 * b**2)) / (x * b * np.sqrt(2 * np.pi)))*scale\n",
    "        return predict\n",
    "\n",
    "    def sse(self, params, xobs, yobs):\n",
    "        ynew = self.func(xobs, *params)\n",
    "        mse = np.sum((ynew - yobs) ** 2)        \n",
    "        return mse\n",
    "    \n",
    "    def solver(self):\n",
    "        # change initial guess here\n",
    "        p0 = [1,1,1]\n",
    "        bounds = [(0.0001, 2), (0.0001, 0.5), (0.0001, 0.5)]\n",
    "        res = scipy.optimize.minimize(self.sse, p0, args=(self.x_input, self.actual_pd), bounds=bounds)        \n",
    "        return res\n",
    "    \n",
    "    def predict(self, t=30):\n",
    "        res = self.solver()\n",
    "        ypred = self.func(range(1, t+1), *res.x)        \n",
    "        return ypred    "
   ]
  },
  {
   "attachments": {},
   "cell_type": "markdown",
   "metadata": {},
   "source": [
    "## 2. Fit models"
   ]
  },
  {
   "attachments": {},
   "cell_type": "markdown",
   "metadata": {},
   "source": [
    "### 2.1 Đặt giá trị initial\n",
    "\n",
    "- Gamma = 1,1,1\n",
    "\n",
    "- Cauchy = 1,1,1\n",
    "\n",
    "- Expo = 1,2\n",
    "\n",
    "- Log Logistic = 2,3,1\n",
    "\n",
    "- Log Normal = 1,1,1"
   ]
  },
  {
   "attachments": {},
   "cell_type": "markdown",
   "metadata": {},
   "source": [
    "### 2.2 Đọc dữ liệu"
   ]
  },
  {
   "cell_type": "code",
   "execution_count": null,
   "metadata": {},
   "outputs": [],
   "source": [
    "data = pd.read_excel('results/Cohort Analysis.xlsb', engine='pyxlsb', sheet_name='1.2 Visualize', usecols = 'O:Z')\n",
    "data.tail()"
   ]
  },
  {
   "cell_type": "markdown",
   "metadata": {},
   "source": [
    "## 2.3 Fit models"
   ]
  },
  {
   "cell_type": "code",
   "execution_count": 9,
   "metadata": {},
   "outputs": [],
   "source": [
    "def fn_export_by_segment(segment, period):\n",
    "    # segment = segment.upper()\n",
    "    actual_pd = data[data.Segment_Group.isin([segment])]\n",
    "    actual_pd = actual_pd.iloc[0, 2:]\n",
    "    actual_pd = actual_pd.values\n",
    "    \n",
    "    res_gamma = opt_gamma(actual_pd)\n",
    "    res_exponential = opt_exponential(actual_pd)\n",
    "    res_cauchy = opt_cauchy(actual_pd)\n",
    "    res_log_logistic = opt_log_logistic(actual_pd)\n",
    "    res_log_normal = opt_log_normal(actual_pd)\n",
    "    \n",
    "    params = pd.DataFrame({\n",
    "        'Segment': segment,\n",
    "        'Distribution': ['Gamma', 'Exponential', 'Cauchy', 'Log-Logistic', 'Log-Normal'],\n",
    "        'SSE': [res_gamma.solver().fun, res_exponential.solver().fun, res_cauchy.solver().fun, res_log_logistic.solver().fun, res_log_normal.solver().fun],\n",
    "        'params': [res_gamma.solver().x, res_exponential.solver().x, res_cauchy.solver().x, res_log_logistic.solver().x, res_log_normal.solver().x]\n",
    "    })    \n",
    "   \n",
    "    params[['scale', 'a', 'b']] = pd.DataFrame(params.params.to_list())    \n",
    "    del params['params']\n",
    "    \n",
    "    dict_predict = {\n",
    "            'Segment': segment,\n",
    "            'Period': range(1, period+1),\n",
    "            'Gamma': res_gamma.predict(period),\n",
    "            'Exponential': res_exponential.predict(period),\n",
    "            'Cauchy': res_cauchy.predict(period),\n",
    "            'Log-Logistic': res_log_logistic.predict(period),\n",
    "            'Log-Normal': res_log_normal.predict(period)\n",
    "        }\n",
    "    \n",
    "    best_distribution = params.sort_values('SSE').head(1)\n",
    "    best_distribution['Tag best distribution'] = 'Best distribution'    \n",
    "\n",
    "    print('Best distribution of ' + segment + ' is '+ best_distribution['Distribution'].item())\n",
    "\n",
    "    return params, best_distribution, pd.DataFrame(dict_predict)\n"
   ]
  },
  {
   "cell_type": "code",
   "execution_count": null,
   "metadata": {},
   "outputs": [],
   "source": [
    "pred_best_fit = []\n",
    "params_frame = []\n",
    "pred_all_curve = []\n",
    "for seg in data.Segment_Group:\n",
    "    params, df_best_fit, df_all = fn_export_by_segment(seg, 30)\n",
    "    pred_best_fit.append(df_best_fit)\n",
    "    params_frame.append(params)\n",
    "    pred_all_curve.append(df_all)\n",
    "\n",
    "pred_best_fit = pd.concat(pred_best_fit, axis=0)\n",
    "params_frame = pd.concat(params_frame, axis=0)\n",
    "pred_all_curve = pd.concat(pred_all_curve, axis=0)"
   ]
  },
  {
   "cell_type": "code",
   "execution_count": 11,
   "metadata": {},
   "outputs": [],
   "source": [
    "pivot_pred_all_curve = pd.melt(pred_all_curve, \n",
    "        id_vars=['Segment', 'Period'], \n",
    "        value_vars=['Gamma', 'Exponential', 'Cauchy', 'Log-Logistic', 'Log-Normal'],\n",
    "        var_name = 'Distribution').pivot(\n",
    "                index = ['Segment', 'Distribution'], columns='Period'\n",
    "        )\n",
    "pivot_pred_all_curve.reset_index(inplace=True, drop=False)\n",
    "pivot_pred_all_curve.columns = ['Segment', 'Distribution', *range(1,31)]\n",
    "pivot_pred_all_curve = params_frame.merge(pivot_pred_all_curve, how='inner', on=['Segment', 'Distribution']).merge(\n",
    "        pred_best_fit[['Segment', 'Distribution', 'Tag best distribution']], how='left', on=['Segment', 'Distribution']\n",
    ")"
   ]
  },
  {
   "cell_type": "markdown",
   "metadata": {},
   "source": [
    "# Xuất OutPut ra Excel"
   ]
  },
  {
   "cell_type": "code",
   "execution_count": 136,
   "metadata": {},
   "outputs": [],
   "source": [
    "pred_best_fit.reset_index(inplace=True, drop=True)\n",
    "params_frame.reset_index(inplace=True, drop=True)\n",
    "pivot_pred_all_curve.reset_index(inplace=True, drop=True)\n",
    "with pd.ExcelWriter('cohort_fitted.xlsx') as writer:\n",
    "    pred_best_fit.to_excel(writer, sheet_name='pred_best_fit')\n",
    "    params_frame.to_excel(writer, sheet_name='params_frame')        \n",
    "    pivot_pred_all_curve.to_excel(writer, sheet_name='pivot_pred_all_curve')"
   ]
  }
 ],
 "metadata": {
  "kernelspec": {
   "display_name": "rdm",
   "language": "python",
   "name": "python3"
  },
  "language_info": {
   "codemirror_mode": {
    "name": "ipython",
    "version": 3
   },
   "file_extension": ".py",
   "mimetype": "text/x-python",
   "name": "python",
   "nbconvert_exporter": "python",
   "pygments_lexer": "ipython3",
   "version": "3.10.11"
  },
  "orig_nbformat": 4,
  "vscode": {
   "interpreter": {
    "hash": "b0fc7d2c5e3b32912b68ef575c1bdd2ee7ee3f28f2d636d660b71751dc8fb34a"
   }
  }
 },
 "nbformat": 4,
 "nbformat_minor": 2
}
